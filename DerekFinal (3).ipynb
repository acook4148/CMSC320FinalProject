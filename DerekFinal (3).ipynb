{
 "cells": [
  {
   "cell_type": "code",
   "execution_count": 431,
   "id": "signal-shannon",
   "metadata": {},
   "outputs": [
    {
     "name": "stderr",
     "output_type": "stream",
     "text": [
      "/var/folders/g6/5dfqwh4s18xcgfh49gvdkfrr0000gn/T/ipykernel_14143/182322003.py:33: FutureWarning: The default value of regex will change from True to False in a future version. In addition, single character regular expressions will *not* be treated as literal strings when regex=True.\n",
      "  df.index=df.index.str.replace('*', '')\n"
     ]
    }
   ],
   "source": [
    "import requests\n",
    "from bs4 import BeautifulSoup \n",
    "import pandas as pd\n",
    "import datetime as dt\n",
    "\n",
    "seasons_stats={}\n",
    "\n",
    "for year in range(1980,2021):\n",
    "    url = 'https://www.basketball-reference.com/leagues/NBA_{}_totals.html'.format(year)\n",
    "    r = requests.get(url)\n",
    "    r_html = r.text\n",
    "    soup = BeautifulSoup(r_html,'html.parser')\n",
    "    table=soup.find_all(class_=\"full_table\")\n",
    "    ##Extracting List of column names\n",
    "    head=soup.find(class_=\"thead\")\n",
    "    column_names_raw=[head.text for item in head][0] \n",
    "    column_names_polished=column_names_raw.replace(\"\\n\",\",\").split(\",\")[2:-1] \n",
    "    \n",
    "    \n",
    "    ##Extracting full list of player_data\n",
    "    players=[]\n",
    "    \n",
    "    for i in range(len(table)): \n",
    "        player_=[]\n",
    "\n",
    "        for td in table[i].find_all(\"td\"):\n",
    "            player_.append(td.text)\n",
    "        players.append(player_)\n",
    "            \n",
    "    df=pd.DataFrame(players, columns=column_names_polished).set_index(\"Player\") \n",
    "    \n",
    "    #cleaning the player's name from occasional special characters\n",
    "    df.index=df.index.str.replace('*', '')\n",
    "    #For later calculations players that bounced around between teams during the season will not qualify\n",
    "    df = df[df.Tm != \"TOT\"]\n",
    "    seasons_stats[year-1]=df\n",
    "    "
   ]
  },
  {
   "cell_type": "markdown",
   "id": "lyric-glasgow",
   "metadata": {},
   "source": [
    "We have collected the data from all seasons 1980-2019 and organized it into a dictionary separated by season. Using this data we will be able to perform analysis from different approaches to determine the Greatest of All Time (GOAT) basketball player from different lenses"
   ]
  },
  {
   "cell_type": "markdown",
   "id": "viral-artist",
   "metadata": {},
   "source": [
    "Although, many players throughout the NBA's history may have played for several years, or even decades. There have been countless stars who have had their career's cut short due to unfortunate injuries. In order to take these playerss into consideration, I will use the data collected above separated by NBA season to identify the GOAT season by a single player."
   ]
  },
  {
   "cell_type": "markdown",
   "id": "generic-seating",
   "metadata": {},
   "source": [
    "To compare the caliber of a player's specific season to another, one useful metric is a player's Player Efficiency Rating (PER). This metric takes into accounts a player's offensive and defensive stats and sums up positive accomplishments while subtracting negative accomplishments, returning a per-minute rating of a player's performance. More information on PER can be found here https://www.espn.com/nba/columns/story?columnist=hollinger_john&id=2850240 . "
   ]
  },
  {
   "cell_type": "markdown",
   "id": "honest-singles",
   "metadata": {},
   "source": [
    "The pace of a team is taken into account of PER so that players on teams with a pace slower than league average are not punished unfairly. As a result, we need to calculate a pace adjustment for each team. \n",
    "(Pace_adjustment = league_pace / team_pace)"
   ]
  },
  {
   "cell_type": "code",
   "execution_count": 432,
   "id": "numerous-tokyo",
   "metadata": {},
   "outputs": [
    {
     "name": "stderr",
     "output_type": "stream",
     "text": [
      "/var/folders/g6/5dfqwh4s18xcgfh49gvdkfrr0000gn/T/ipykernel_14143/2724418862.py:42: FutureWarning: The default value of regex will change from True to False in a future version. In addition, single character regular expressions will *not* be treated as literal strings when regex=True.\n",
      "  df.index=df.index.str.replace('*', '')\n",
      "/var/folders/g6/5dfqwh4s18xcgfh49gvdkfrr0000gn/T/ipykernel_14143/2724418862.py:59: FutureWarning: The default value of regex will change from True to False in a future version. In addition, single character regular expressions will *not* be treated as literal strings when regex=True.\n",
      "  pace_frame.index=df.index.str.replace('*', '')\n"
     ]
    }
   ],
   "source": [
    "#dictionary that will hold team stats\n",
    "team_stats_per_year = {}\n",
    "\n",
    "for year in range(1980,2021):\n",
    "    url = 'https://www.basketball-reference.com/leagues/NBA_{}.html'.format(year)\n",
    "    r = requests.get(url)\n",
    "    r_html = r.text\n",
    "    soup = BeautifulSoup(r_html,'html.parser')\n",
    "\n",
    "    #Narrows down to specific table on page\n",
    "    totals_table=soup.find('table', id='totals-team')\n",
    "    head = totals_table.find(\"thead\")\n",
    "\n",
    "    #Specific row has no class attribute\n",
    "    labels = head.find(\"tr\", attrs={'class': None})\n",
    "\n",
    "    #will be column names for dataframe\n",
    "    column_names_ = ([labels.text for item in head][0]).split()\n",
    "    # dont neeed rank columns\n",
    "    column_names_.pop(0)\n",
    "    #contins data for dataframes\n",
    "    tbody = totals_table.find('tbody')\n",
    "    rows = tbody.find_all(\"tr\")\n",
    "\n",
    "    teams = []\n",
    "    team_paces = []\n",
    "    # Grabs all data from each team row by row\n",
    "    for i in range(len(rows)):\n",
    "        stat = []\n",
    "        for td in rows[i].find_all(\"td\"):\n",
    "            stat.append(td.text)\n",
    "        teams.append(stat)\n",
    "    \n",
    "    # Gets league averages for that year and adds them to the data set\n",
    "    #average = totals_table.find(\"tfoot\")\n",
    "    #avg_row = average.find(\"tr\")\n",
    "    #avg_stats = avg_row.find([avg_row.text for item in average][0]).split()\n",
    "    #teams.append(avg_stats)\n",
    "    \n",
    "    #Add team stats to dataframe for the year (index off team)\n",
    "    df = pd.DataFrame(teams, columns=column_names_).set_index(\"Team\")\n",
    "    df.index=df.index.str.replace('*', '')\n",
    "    \n",
    "    # Reading in advanced table from same URL to get each team's pace\n",
    "    advanced_table = soup.find('table', id='advanced-team')\n",
    "    columns_pace = [\"Team\", \"Pace\"]\n",
    "    tbody = advanced_table.find('tbody')\n",
    "    rows = tbody.find_all(\"tr\")\n",
    "    \n",
    "    for i in range(len(rows)):\n",
    "        team_pace = []\n",
    "        for td in rows[i].find_all(\"td\"):\n",
    "            #We only need the pace statistic and corresponding team\n",
    "            if ((td['data-stat']) == \"team\" or (td['data-stat']) == \"pace\"):\n",
    "                team_pace.append(td.text)\n",
    "        team_paces.append(team_pace)\n",
    "    \n",
    "    pace_frame = pd.DataFrame(team_paces, columns = columns_pace).set_index(\"Team\")\n",
    "    pace_frame.index=df.index.str.replace('*', '')\n",
    "    \n",
    "    #merge the two dataframes\n",
    "    result = pd.merge(df, pace_frame, left_index= True, right_index = True)\n",
    "    \n",
    "    #Add to dictionary of team stats by year\n",
    "    team_stats_per_year[year-1] = result"
   ]
  },
  {
   "cell_type": "markdown",
   "id": "several-prisoner",
   "metadata": {},
   "source": [
    "The code above extracts all of the team and league data from the 1979-1980 season through the 2019-2020 season necessary to calculate the PER of a player."
   ]
  },
  {
   "cell_type": "markdown",
   "id": "dfc64892",
   "metadata": {},
   "source": [
    "Creating columns in seasons stats to hold uPer, aPer and lg_aPer"
   ]
  },
  {
   "cell_type": "code",
   "execution_count": 433,
   "id": "devoted-concert",
   "metadata": {},
   "outputs": [],
   "source": [
    "for year in range(1979, 2020):\n",
    "    (seasons_stats[year])[\"uPer\"] = 0\n",
    "    (seasons_stats[year])[\"aPer\"] = 0\n",
    "    (seasons_stats[year])[\"lg_aPer\"] = 0"
   ]
  },
  {
   "cell_type": "markdown",
   "id": "willing-lithuania",
   "metadata": {},
   "source": [
    "A problem with our data is that the team names are represented as three letter abbreviations for the player data but are stored as the full team name for the team data. This creates problems with accessing data of a respective player's team. We need to convert every abbrevaition into a full team name."
   ]
  },
  {
   "cell_type": "code",
   "execution_count": 436,
   "id": "f024b07d",
   "metadata": {},
   "outputs": [],
   "source": [
    "def change_name(abr, year):\n",
    "    if abr == \"ATL\":\n",
    "        return \"Atlanta Hawks\"\n",
    "    elif abr == \"BOS\":\n",
    "        return \"Boston Celtics\"\n",
    "    elif abr == \"BKN\":\n",
    "        return \"Brooklyn Nets\"\n",
    "    elif abr == \"BRK\":\n",
    "        return \"Brooklyn Nets\"\n",
    "    elif abr == \"CHA\":\n",
    "        return \"Charlotte Bobcats\"\n",
    "    elif abr == \"CHH\":\n",
    "        return \"Charlotte Hornets\"\n",
    "    elif abr == \"CHO\":\n",
    "        return \"Charlotte Hornets\"\n",
    "    elif abr == \"CHI\":\n",
    "        return \"Chicago Bulls\"\n",
    "    elif abr == \"CLE\":\n",
    "        return \"Cleveland Cavaliers\"\n",
    "    elif abr == \"DAL\":\n",
    "        return \"Dallas Mavericks\"\n",
    "    elif abr == \"DEN\":\n",
    "        return \"Denver Nuggets\"\n",
    "    elif abr == \"DET\":\n",
    "        return \"Detroit Pistons\"\n",
    "    elif abr == \"GSW\":\n",
    "        return \"Golden State Warriors\"\n",
    "    elif abr == \"HOU\":\n",
    "        return \"Houston Rockets\"\n",
    "    elif abr == \"IND\":\n",
    "        return \"Indiana Pacers\"\n",
    "    elif abr == \"KCK\":\n",
    "        return \"Kansas City Kings\"\n",
    "    elif abr == \"LAL\":\n",
    "        return \"Los Angeles Lakers\"\n",
    "    elif abr == \"LAC\":\n",
    "        return \"Los Angeles Clippers\"\n",
    "    elif abr == \"MEM\":\n",
    "        return \"Memphis Grizzlies\"\n",
    "    elif abr == \"MIA\":\n",
    "        return \"Miami Heat\"\n",
    "    elif abr == \"MIL\":\n",
    "        return \"Milwaukee Bucks\"\n",
    "    elif abr == \"MIN\":\n",
    "        return \"Minnesota Timberwolves\"\n",
    "    elif abr == \"NJN\":\n",
    "        return \"New Jersey Nets\"\n",
    "    elif abr == \"NOH\":\n",
    "        if (year == 2005 or year == 2006):\n",
    "            # Played games in oklahoma city these two years\n",
    "            return \"New Orleans/Oklahoma City Hornets\"\n",
    "        else:\n",
    "            return \"New Orleans Hornets\"\n",
    "    elif abr == \"NOP\":\n",
    "        return \"New Orleans Pelicans\"\n",
    "    elif abr == \"NOK\":\n",
    "        if (year == 2005 or year == 2006):\n",
    "            # Played games in oklahoma city these two years\n",
    "            return \"New Orleans/Oklahoma City Hornets\"\n",
    "        else:\n",
    "            return \"New Orleans Hornets\"\n",
    "    elif abr == \"NYK\":\n",
    "        return \"New York Knicks\"\n",
    "    elif abr == \"ORL\":\n",
    "        return \"Orlando Magic\"\n",
    "    elif abr == \"OKC\":\n",
    "        return \"Oklahoma City Thunder\"\n",
    "    elif abr == \"PHI\":\n",
    "        return \"Philadelphia 76ers\"\n",
    "    elif abr == \"PHO\":\n",
    "        return \"Phoenix Suns\"\n",
    "    elif abr == \"POR\":\n",
    "        return \"Portland Trail Blazers\"\n",
    "    elif abr == \"SAS\":\n",
    "        return \"San Antonio Spurs\"\n",
    "    elif abr == \"SAC\":\n",
    "        return \"Sacramento Kings\"\n",
    "    elif abr == \"SDC\":\n",
    "        return \"San Diego Clippers\"\n",
    "    elif abr == \"SEA\":\n",
    "        return \"Seattle SuperSonics\"\n",
    "    elif abr == \"TOR\":\n",
    "        return \"Toronto Raptors\"\n",
    "    elif abr == \"UTA\":\n",
    "        return \"Utah Jazz\"\n",
    "    elif abr == \"VAN\":\n",
    "        return \"Vancouver Grizzlies\"\n",
    "    elif abr == \"WAS\":\n",
    "        return \"Washington Wizards\"\n",
    "    elif abr == \"WSB\":\n",
    "        return \"Washington Bullets\"\n",
    "    else:\n",
    "        print(\"YOU MISSED ME MY ABR is \" + abr)\n",
    "        return abr\n",
    "    \n"
   ]
  },
  {
   "cell_type": "code",
   "execution_count": 437,
   "id": "c58ed610",
   "metadata": {},
   "outputs": [],
   "source": [
    "for year in range(1979, 2020):\n",
    "     for player in (seasons_stats[year]).index:\n",
    "        #Check is necessary because we can attempt to access an index that doesn't exist (index already been removed)\n",
    "        if(player in seasons_stats[year].index):\n",
    "            #checks for bad data\n",
    "            if(type((seasons_stats[year]).loc[player, \"Tm\"]) != str):\n",
    "                (seasons_stats[year]).drop(player, inplace=True)\n",
    "            else:\n",
    "                (seasons_stats[year]).at[player, \"Tm\"] = change_name((seasons_stats[year]).at[player, \"Tm\"], year)\n",
    "        "
   ]
  },
  {
   "cell_type": "markdown",
   "id": "9698d28a",
   "metadata": {},
   "source": [
    "Now we will be able to accurately gather team data for the corresponding team while iterating through players."
   ]
  },
  {
   "cell_type": "markdown",
   "id": "7bb90c7e",
   "metadata": {},
   "source": [
    "Another problem with our data is that everything was read in as text (strings instead of ints) for the columns that hold quantitaive stats, I will need to convert them."
   ]
  },
  {
   "cell_type": "code",
   "execution_count": 438,
   "id": "15511d84",
   "metadata": {},
   "outputs": [],
   "source": [
    "#Converts all player data needed for later calculations into floats (from objects)\n",
    "for year in range(1979, 2020):\n",
    "    for column in seasons_stats[year]:\n",
    "        #These columns either are meant to be left as strings, or have missing data aren't needed\n",
    "        if (column != \"Player\" and column != \"Pos\" and column != \"Tm\" and column != \"3P%\"\n",
    "           and column != \"GS\" and column != \"FT%\" and column != \"FG%\" and column != \"2P%\"\n",
    "           and column != \"eFG%\"):\n",
    "            (seasons_stats[year])[column] = ((seasons_stats[year])[column]).astype(float)"
   ]
  },
  {
   "cell_type": "code",
   "execution_count": 439,
   "id": "84e69466",
   "metadata": {},
   "outputs": [],
   "source": [
    "#Converts all team data needed for later calculation into floats (from objects)\n",
    "for year in range(1979, 2020):\n",
    "    for column in team_stats_per_year[year]:\n",
    "        #These columns either are meant to be left as strings, or have missing data aren't needed\n",
    "        if (column != \"Team\"):\n",
    "            (team_stats_per_year[year])[column] = ((team_stats_per_year[year])[column]).astype(float)"
   ]
  },
  {
   "cell_type": "markdown",
   "id": "edf22f6c",
   "metadata": {},
   "source": [
    "The function below will calculate PER unadjusted for team pace (uPer) using Bleacher Report's linear weights\n"
   ]
  },
  {
   "cell_type": "code",
   "execution_count": 440,
   "id": "fcab2f9c",
   "metadata": {},
   "outputs": [],
   "source": [
    "def determine_uPer(minsPlayed, t_points, AST, team_ast, team_fg, FG, FGA, FT, FTA, STL, ORB, TOV, TRB, BLK, \n",
    "                   PF):\n",
    "    \n",
    "    per_min = float(1/minsPlayed)\n",
    "    #factor = float(2/3) - ((0.5 * float(lg_AST / lg_FG)) / (2 * (float(lg_FG / lg_FT))))\n",
    "    #VOP = float(lg_PTS/ (lg_FGA - lg_ORB + lg_TOV + (0.44 * lg_FTA)))\n",
    "    #DRB = float((lg_TRB - lg_ORB) / lg_TRB)\n",
    "\n",
    "    result = per_min * (\n",
    "    (FG * 85.910)\n",
    "    + (STL * 53.897)\n",
    "    + (t_points * 51.757)\n",
    "    + (FT * 46.845)\n",
    "    + (BLK * 39.190)\n",
    "    + (ORB * 39.190)\n",
    "    + (AST * 34.677)\n",
    "    + ((TRB-ORB) * 14.707)\n",
    "    - (PF * 17.174)\n",
    "    - ((FTA-FT) * 20.091)\n",
    "    - ((FG-FGA) * 39.190)\n",
    "    - (TOV * 53.897)\n",
    "    )\n",
    "    return result    "
   ]
  },
  {
   "cell_type": "markdown",
   "id": "68446e19",
   "metadata": {},
   "source": [
    "The function above calculates an individual player's uPER"
   ]
  },
  {
   "cell_type": "code",
   "execution_count": 441,
   "id": "a649fc1b",
   "metadata": {},
   "outputs": [],
   "source": [
    "def determine_aPer(uPer, t_pace, lg_pace):\n",
    "    adjustment = float(lg_pace / t_pace)\n",
    "    return (adjustment * uPer)"
   ]
  },
  {
   "cell_type": "markdown",
   "id": "1262edb4",
   "metadata": {},
   "source": [
    "The function above adjusted the individuals PER to account for the pace of their team compared to the leahue average."
   ]
  },
  {
   "cell_type": "code",
   "execution_count": 442,
   "id": "fa811b18",
   "metadata": {},
   "outputs": [],
   "source": [
    "def standardize_Per(aPer, lg_aPer):\n",
    "    return (aPer * float(15/lg_aPer))"
   ]
  },
  {
   "cell_type": "markdown",
   "id": "e74402d2",
   "metadata": {},
   "source": [
    "The function above standardizes adjusted PER (sets league average to 15)"
   ]
  },
  {
   "cell_type": "markdown",
   "id": "7c3c1b58",
   "metadata": {},
   "source": [
    "Because PER takes into account the per-minute performance of a player, it is not an appropriate metric if the minutes played by a player is not a large enough sample size. To prevent players with low minutes played from skewing our standardized scores we will drop off any players that played under 200 minutes."
   ]
  },
  {
   "cell_type": "code",
   "execution_count": 443,
   "id": "cac33160",
   "metadata": {},
   "outputs": [],
   "source": [
    "for year in range(1979, 2020):\n",
    "    for player in seasons_stats[year].itertuples():\n",
    "        if (float(player.MP) < 200):\n",
    "            if (player.Index in (seasons_stats[year]).index):\n",
    "                (seasons_stats[year]).drop(player.Index, inplace= True)"
   ]
  },
  {
   "cell_type": "code",
   "execution_count": 445,
   "id": "flush-tolerance",
   "metadata": {
    "scrolled": true
   },
   "outputs": [],
   "source": [
    "for year in range(1979, 2020):\n",
    "    #we will need to keep track of all player's per's to make league averages\n",
    "    (seasons_stats[year])[\"uPer\"] = 0\n",
    "    (seasons_stats[year])[\"aPer\"] = 0\n",
    "    (seasons_stats[year])[\"lg_aPer\"] = 0\n",
    "    (seasons_stats[year])[\"PER\"] = 0\n",
    "    # grabs league data from that year\n",
    "    lg = team_stats_per_year[year]\n",
    "    for player in seasons_stats[year].itertuples():\n",
    "        #grabs player team\n",
    "        p_team = player.Tm\n",
    "        uPer = determine_uPer(player.MP, player._10, player.AST, lg.loc[p_team, 'AST'], lg.loc[p_team, 'FG'], player.FG, player.FGA, player.FT, player.FTA,\n",
    "                         player.STL, player.ORB, player.TOV, player.TRB, player.BLK, player.PF)\n",
    "        #print(uPer)\n",
    "        # add uPer to the data frame\n",
    "        (seasons_stats[year]).loc[player.Index, ['uPer']] = uPer\n",
    "    \n",
    "        aPer = determine_aPer(uPer, lg.loc[p_team, 'Pace'], lg['Pace'].mean())\n",
    "        #add aPer to data frame (we will need to calculate mean later)\n",
    "        (seasons_stats[year]).loc[player.Index, ['aPer']] = aPer\n",
    "    for player in seasons_stats[year].itertuples():\n",
    "        # Final PER\n",
    "        PER = standardize_Per(player.aPer, (seasons_stats[year])['aPer'].mean())\n",
    "        (seasons_stats[year]).loc[player.Index, ['PER']] = PER"
   ]
  },
  {
   "cell_type": "markdown",
   "id": "d64be390",
   "metadata": {},
   "source": [
    "The code above first calls the determine_uPer function to calculate an unadjusted PER rating for reach player and then adjusts the player's uPER to aPer accounting for their teams pace when compared to the league average. Finally when every player's aPer is calculated for a season, the standardized PER can be found (keeping in mind that the league average should be 15)."
   ]
  },
  {
   "cell_type": "markdown",
   "id": "580f0ead",
   "metadata": {},
   "source": [
    "To find the players with the most dominant season, we will gather the players that had PER scores over 28.0"
   ]
  },
  {
   "cell_type": "code",
   "execution_count": 465,
   "id": "c0c0424b",
   "metadata": {},
   "outputs": [],
   "source": [
    "top_players = pd.DataFrame(columns = ['Name', 'Year', 'PER'])"
   ]
  },
  {
   "cell_type": "code",
   "execution_count": 466,
   "id": "e1c2b0dd",
   "metadata": {},
   "outputs": [],
   "source": [
    "for year in range (1979, 2020):\n",
    "    for player in seasons_stats[year].itertuples():\n",
    "        if player[32] > 28.0:\n",
    "            new_row = {'Name': player.Index, 'Year': year, 'PER': player[32]}\n",
    "            top_players = top_players.append(new_row, ignore_index = True)"
   ]
  },
  {
   "cell_type": "code",
   "execution_count": 470,
   "id": "e9e06f8c",
   "metadata": {},
   "outputs": [
    {
     "data": {
      "text/html": [
       "<div>\n",
       "<style scoped>\n",
       "    .dataframe tbody tr th:only-of-type {\n",
       "        vertical-align: middle;\n",
       "    }\n",
       "\n",
       "    .dataframe tbody tr th {\n",
       "        vertical-align: top;\n",
       "    }\n",
       "\n",
       "    .dataframe thead th {\n",
       "        text-align: right;\n",
       "    }\n",
       "</style>\n",
       "<table border=\"1\" class=\"dataframe\">\n",
       "  <thead>\n",
       "    <tr style=\"text-align: right;\">\n",
       "      <th></th>\n",
       "      <th>Name</th>\n",
       "      <th>Year</th>\n",
       "      <th>PER</th>\n",
       "    </tr>\n",
       "  </thead>\n",
       "  <tbody>\n",
       "    <tr>\n",
       "      <th>19</th>\n",
       "      <td>Russell Westbrook</td>\n",
       "      <td>2016</td>\n",
       "      <td>32.169604</td>\n",
       "    </tr>\n",
       "    <tr>\n",
       "      <th>12</th>\n",
       "      <td>Kobe Bryant</td>\n",
       "      <td>2005</td>\n",
       "      <td>31.795259</td>\n",
       "    </tr>\n",
       "    <tr>\n",
       "      <th>17</th>\n",
       "      <td>Russell Westbrook</td>\n",
       "      <td>2014</td>\n",
       "      <td>30.973235</td>\n",
       "    </tr>\n",
       "    <tr>\n",
       "      <th>11</th>\n",
       "      <td>Tracy McGrady</td>\n",
       "      <td>2002</td>\n",
       "      <td>30.692457</td>\n",
       "    </tr>\n",
       "    <tr>\n",
       "      <th>6</th>\n",
       "      <td>Michael Jordan</td>\n",
       "      <td>1990</td>\n",
       "      <td>30.248882</td>\n",
       "    </tr>\n",
       "    <tr>\n",
       "      <th>18</th>\n",
       "      <td>Stephen Curry</td>\n",
       "      <td>2015</td>\n",
       "      <td>30.215062</td>\n",
       "    </tr>\n",
       "    <tr>\n",
       "      <th>21</th>\n",
       "      <td>James Harden</td>\n",
       "      <td>2018</td>\n",
       "      <td>29.811516</td>\n",
       "    </tr>\n",
       "    <tr>\n",
       "      <th>1</th>\n",
       "      <td>Michael Jordan</td>\n",
       "      <td>1985</td>\n",
       "      <td>29.770069</td>\n",
       "    </tr>\n",
       "    <tr>\n",
       "      <th>2</th>\n",
       "      <td>Michael Jordan</td>\n",
       "      <td>1986</td>\n",
       "      <td>29.684472</td>\n",
       "    </tr>\n",
       "    <tr>\n",
       "      <th>15</th>\n",
       "      <td>LeBron James</td>\n",
       "      <td>2008</td>\n",
       "      <td>29.481304</td>\n",
       "    </tr>\n",
       "    <tr>\n",
       "      <th>22</th>\n",
       "      <td>Giannis Antetokounmpo</td>\n",
       "      <td>2019</td>\n",
       "      <td>29.410660</td>\n",
       "    </tr>\n",
       "    <tr>\n",
       "      <th>8</th>\n",
       "      <td>Michael Jordan</td>\n",
       "      <td>1995</td>\n",
       "      <td>29.381893</td>\n",
       "    </tr>\n",
       "    <tr>\n",
       "      <th>16</th>\n",
       "      <td>LeBron James</td>\n",
       "      <td>2009</td>\n",
       "      <td>29.345410</td>\n",
       "    </tr>\n",
       "    <tr>\n",
       "      <th>13</th>\n",
       "      <td>Allen Iverson</td>\n",
       "      <td>2005</td>\n",
       "      <td>29.287474</td>\n",
       "    </tr>\n",
       "    <tr>\n",
       "      <th>9</th>\n",
       "      <td>Michael Jordan</td>\n",
       "      <td>1996</td>\n",
       "      <td>29.253457</td>\n",
       "    </tr>\n",
       "    <tr>\n",
       "      <th>5</th>\n",
       "      <td>Michael Adams</td>\n",
       "      <td>1990</td>\n",
       "      <td>29.211044</td>\n",
       "    </tr>\n",
       "    <tr>\n",
       "      <th>4</th>\n",
       "      <td>Michael Jordan</td>\n",
       "      <td>1989</td>\n",
       "      <td>29.084284</td>\n",
       "    </tr>\n",
       "    <tr>\n",
       "      <th>23</th>\n",
       "      <td>James Harden</td>\n",
       "      <td>2019</td>\n",
       "      <td>28.775956</td>\n",
       "    </tr>\n",
       "    <tr>\n",
       "      <th>0</th>\n",
       "      <td>George Gervin</td>\n",
       "      <td>1981</td>\n",
       "      <td>28.640788</td>\n",
       "    </tr>\n",
       "    <tr>\n",
       "      <th>20</th>\n",
       "      <td>James Harden</td>\n",
       "      <td>2017</td>\n",
       "      <td>28.465777</td>\n",
       "    </tr>\n",
       "    <tr>\n",
       "      <th>7</th>\n",
       "      <td>Michael Jordan</td>\n",
       "      <td>1994</td>\n",
       "      <td>28.320101</td>\n",
       "    </tr>\n",
       "    <tr>\n",
       "      <th>3</th>\n",
       "      <td>Michael Jordan</td>\n",
       "      <td>1988</td>\n",
       "      <td>28.262233</td>\n",
       "    </tr>\n",
       "    <tr>\n",
       "      <th>10</th>\n",
       "      <td>Michael Jordan</td>\n",
       "      <td>1997</td>\n",
       "      <td>28.041611</td>\n",
       "    </tr>\n",
       "    <tr>\n",
       "      <th>14</th>\n",
       "      <td>Kobe Bryant</td>\n",
       "      <td>2006</td>\n",
       "      <td>28.028973</td>\n",
       "    </tr>\n",
       "  </tbody>\n",
       "</table>\n",
       "</div>"
      ],
      "text/plain": [
       "                     Name  Year        PER\n",
       "19      Russell Westbrook  2016  32.169604\n",
       "12            Kobe Bryant  2005  31.795259\n",
       "17      Russell Westbrook  2014  30.973235\n",
       "11          Tracy McGrady  2002  30.692457\n",
       "6          Michael Jordan  1990  30.248882\n",
       "18          Stephen Curry  2015  30.215062\n",
       "21           James Harden  2018  29.811516\n",
       "1          Michael Jordan  1985  29.770069\n",
       "2          Michael Jordan  1986  29.684472\n",
       "15           LeBron James  2008  29.481304\n",
       "22  Giannis Antetokounmpo  2019  29.410660\n",
       "8          Michael Jordan  1995  29.381893\n",
       "16           LeBron James  2009  29.345410\n",
       "13          Allen Iverson  2005  29.287474\n",
       "9          Michael Jordan  1996  29.253457\n",
       "5           Michael Adams  1990  29.211044\n",
       "4          Michael Jordan  1989  29.084284\n",
       "23           James Harden  2019  28.775956\n",
       "0           George Gervin  1981  28.640788\n",
       "20           James Harden  2017  28.465777\n",
       "7          Michael Jordan  1994  28.320101\n",
       "3          Michael Jordan  1988  28.262233\n",
       "10         Michael Jordan  1997  28.041611\n",
       "14            Kobe Bryant  2006  28.028973"
      ]
     },
     "execution_count": 470,
     "metadata": {},
     "output_type": "execute_result"
    }
   ],
   "source": [
    "top_players.sort_values(by=['PER'], ascending= False)"
   ]
  },
  {
   "cell_type": "markdown",
   "id": "1eb6cbbc",
   "metadata": {},
   "source": [
    "The 23 most dominant single seasons (according to our PER calculations) are listed above. Russel Westbrook's 2016-2017 season scored the highest on our scale than any other season. Although you can see that players such as Lebron James and Michael Jordan have cracked the list far more times than Westbrook, suggesting they both racked up consistent dominant seasons. However, according to our metrics Westbrook's season still lands him the spot of GOAT season."
   ]
  },
  {
   "cell_type": "code",
   "execution_count": null,
   "id": "e81bc30a",
   "metadata": {},
   "outputs": [],
   "source": []
  }
 ],
 "metadata": {
  "kernelspec": {
   "display_name": "Python 3",
   "language": "python",
   "name": "python3"
  },
  "language_info": {
   "codemirror_mode": {
    "name": "ipython",
    "version": 3
   },
   "file_extension": ".py",
   "mimetype": "text/x-python",
   "name": "python",
   "nbconvert_exporter": "python",
   "pygments_lexer": "ipython3",
   "version": "3.8.8"
  }
 },
 "nbformat": 4,
 "nbformat_minor": 5
}
